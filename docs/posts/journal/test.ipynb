{
 "cells": [
  {
   "cell_type": "code",
   "execution_count": 3,
   "metadata": {},
   "outputs": [
    {
     "name": "stdout",
     "output_type": "stream",
     "text": [
      "8 10 12 15 18 "
     ]
    }
   ],
   "source": [
    "class TreeNode:\n",
    "    def __init__(self, key):\n",
    "        self.key = key\n",
    "        self.left = None\n",
    "        self.right = None\n",
    "        self.parent = None\n",
    "\n",
    "def transplant(root, u, v):\n",
    "    if u.parent is None:\n",
    "        root = v\n",
    "    elif u == u.parent.left:\n",
    "        u.parent.left = v\n",
    "    else:\n",
    "        u.parent.right = v\n",
    "    if v is not None:\n",
    "        v.parent = u.parent\n",
    "    return root"
   ]
  },
  {
   "cell_type": "code",
   "execution_count": 4,
   "metadata": {},
   "outputs": [
    {
     "name": "stdout",
     "output_type": "stream",
     "text": [
      "8 10 12 15 18 "
     ]
    }
   ],
   "source": [
    "\n",
    "\n",
    "# Example usage:\n",
    "# Let's say we have a binary search tree and we want to replace node u with node v.\n",
    "\n",
    "# Sample BST:\n",
    "#         10\n",
    "#       /    \\\n",
    "#      5      15\n",
    "#     / \\    /  \\\n",
    "#    3   7  12   18\n",
    "\n",
    "# Construct the BST\n",
    "root = TreeNode(10)\n",
    "root.left = TreeNode(5)\n",
    "root.right = TreeNode(15)\n",
    "root.left.left = TreeNode(3)\n",
    "root.left.right = TreeNode(7)\n",
    "root.right.left = TreeNode(12)\n",
    "root.right.right = TreeNode(18)\n",
    "\n",
    "# Set parent pointers\n",
    "root.left.parent = root\n",
    "root.right.parent = root\n",
    "root.left.left.parent = root.left\n",
    "root.left.right.parent = root.left\n",
    "root.right.left.parent = root.right\n",
    "root.right.right.parent = root.right\n",
    "\n",
    "# Suppose we want to transplant node with key 5 with node with key 8\n",
    "node_u = root.left  # Node with key 5\n",
    "node_v = TreeNode(8)\n",
    "\n",
    "# Perform transplant operation\n",
    "root = transplant(root, node_u, node_v)\n",
    "\n",
    "# Print the modified tree\n",
    "def inorder_traversal(node):\n",
    "    if node is not None:\n",
    "        inorder_traversal(node.left)\n",
    "        print(node.key, end=\" \")\n",
    "        inorder_traversal(node.right)\n",
    "\n",
    "inorder_traversal(root)  # Output should be: 3 8 7 10 12 15 18\n"
   ]
  },
  {
   "cell_type": "code",
   "execution_count": 5,
   "metadata": {},
   "outputs": [
    {
     "name": "stdout",
     "output_type": "stream",
     "text": [
      "2 10 12 15 18 "
     ]
    }
   ],
   "source": [
    "\n",
    "# Construct the BST\n",
    "root = TreeNode(10)\n",
    "root.left = TreeNode(5)\n",
    "root.right = TreeNode(15)\n",
    "root.left.left = TreeNode(3)\n",
    "root.left.right = TreeNode(7)\n",
    "root.right.left = TreeNode(12)\n",
    "root.right.right = TreeNode(18)\n",
    "\n",
    "# Set parent pointers\n",
    "root.left.parent = root\n",
    "root.right.parent = root\n",
    "root.left.left.parent = root.left\n",
    "root.left.right.parent = root.left\n",
    "root.right.left.parent = root.right\n",
    "root.right.right.parent = root.right\n",
    "\n",
    "# Suppose we want to transplant node with key 5 with node with key 8\n",
    "node_u = root.left  # Node with key 5\n",
    "node_v = TreeNode(2)\n",
    "\n",
    "# Perform transplant operation\n",
    "root = transplant(root, node_u, node_v)\n",
    "\n",
    "# Print the modified tree\n",
    "def inorder_traversal(node):\n",
    "    if node is not None:\n",
    "        inorder_traversal(node.left)\n",
    "        print(node.key, end=\" \")\n",
    "        inorder_traversal(node.right)\n",
    "\n",
    "inorder_traversal(root)  # Output should be: 3 8 7 10 12 15 18"
   ]
  },
  {
   "cell_type": "code",
   "execution_count": 7,
   "metadata": {},
   "outputs": [
    {
     "data": {
      "text/plain": [
       "10"
      ]
     },
     "execution_count": 7,
     "metadata": {},
     "output_type": "execute_result"
    }
   ],
   "source": [
    "root.key"
   ]
  },
  {
   "cell_type": "code",
   "execution_count": 8,
   "metadata": {},
   "outputs": [
    {
     "name": "stdout",
     "output_type": "stream",
     "text": [
      "3 7 10 12 15 18 "
     ]
    }
   ],
   "source": [
    "class TreeNode:\n",
    "    def __init__(self, key):\n",
    "        self.key = key\n",
    "        self.left = None\n",
    "        self.right = None\n",
    "        self.parent = None\n",
    "\n",
    "def transplant(root, u, v):\n",
    "    if u.parent is None:\n",
    "        root = v\n",
    "    elif u == u.parent.left:\n",
    "        u.parent.left = v\n",
    "    else:\n",
    "        u.parent.right = v\n",
    "    if v is not None:\n",
    "        v.parent = u.parent\n",
    "    return root\n",
    "\n",
    "def delete_node(root, key):\n",
    "    node = root\n",
    "    while node is not None:\n",
    "        if key < node.key:\n",
    "            node = node.left\n",
    "        elif key > node.key:\n",
    "            node = node.right\n",
    "        else:  # Found the node to delete\n",
    "            if node.left is None:\n",
    "                root = transplant(root, node, node.right)\n",
    "            elif node.right is None:\n",
    "                root = transplant(root, node, node.left)\n",
    "            else:\n",
    "                successor = node.right\n",
    "                while successor.left is not None:\n",
    "                    successor = successor.left\n",
    "                if successor.parent != node:\n",
    "                    root = transplant(root, successor, successor.right)\n",
    "                    successor.right = node.right\n",
    "                    successor.right.parent = successor\n",
    "                root = transplant(root, node, successor)\n",
    "                successor.left = node.left\n",
    "                successor.left.parent = successor\n",
    "            break\n",
    "    return root\n"
   ]
  },
  {
   "cell_type": "code",
   "execution_count": 9,
   "metadata": {},
   "outputs": [
    {
     "name": "stdout",
     "output_type": "stream",
     "text": [
      "3 7 10 12 15 18 "
     ]
    }
   ],
   "source": [
    "\n",
    "\n",
    "# Construct the BST\n",
    "root = TreeNode(10)\n",
    "root.left = TreeNode(5)\n",
    "root.right = TreeNode(15)\n",
    "root.left.left = TreeNode(3)\n",
    "root.left.right = TreeNode(7)\n",
    "root.right.left = TreeNode(12)\n",
    "root.right.right = TreeNode(18)\n",
    "\n",
    "# Set parent pointers\n",
    "root.left.parent = root\n",
    "root.right.parent = root\n",
    "root.left.left.parent = root.left\n",
    "root.left.right.parent = root.left\n",
    "root.right.left.parent = root.right\n",
    "root.right.right.parent = root.right\n",
    "\n",
    "# Delete node with key 5\n",
    "root = delete_node(root, 5)\n",
    "\"\"\"\n",
    "    10\n",
    "   /  \\\n",
    " 5    15\n",
    "/ \\    / \\\n",
    "3   7 12  18\n",
    "\n",
    "\"\"\"\n",
    "# Print the modified tree\n",
    "def inorder_traversal(node):\n",
    "    if node is not None:\n",
    "        inorder_traversal(node.left)\n",
    "        print(node.key, end=\" \")\n",
    "        inorder_traversal(node.right)\n",
    "\n",
    "inorder_traversal(root)  # Output should be: 3 7 10 12 15 18"
   ]
  },
  {
   "cell_type": "code",
   "execution_count": 1,
   "metadata": {},
   "outputs": [
    {
     "name": "stdout",
     "output_type": "stream",
     "text": [
      "Cost of Optimal BST is 142\n"
     ]
    }
   ],
   "source": [
    "# A naive recursive implementation of \n",
    "# optimal binary search tree problem \n",
    "\n",
    "# A recursive function to calculate \n",
    "# cost of optimal binary search tree \n",
    "def optCost(freq, i, j):\n",
    "\t\n",
    "\t# Base cases \n",
    "\tif j < i:\t # no elements in this subarray \n",
    "\t\treturn 0\n",
    "\tif j == i:\t # one element in this subarray \n",
    "\t\treturn freq[i] \n",
    "\t\n",
    "\t# Get sum of freq[i], freq[i+1], ... freq[j] \n",
    "\tfsum = Sum(freq, i, j) \n",
    "\t\n",
    "\t# Initialize minimum value \n",
    "\tMin = 999999999999\n",
    "\t\n",
    "\t# One by one consider all elements as \n",
    "\t# root and recursively find cost of \n",
    "\t# the BST, compare the cost with min\n",
    "\t# and update min if needed \n",
    "\tfor r in range(i, j + 1):\n",
    "\t\tcost = (optCost(freq, i, r - 1) +\n",
    "\t\t\t\toptCost(freq, r + 1, j)) \n",
    "\t\tif cost < Min: \n",
    "\t\t\tMin = cost\n",
    "\t\n",
    "\t# Return minimum value \n",
    "\treturn Min + fsum\n",
    "\n",
    "# The main function that calculates minimum \n",
    "# cost of a Binary Search Tree. It mainly \n",
    "# uses optCost() to find the optimal cost. \n",
    "def optimalSearchTree(keys, freq, n):\n",
    "\t\n",
    "\t# Here array keys[] is assumed to be \n",
    "\t# sorted in increasing order. If keys[] \n",
    "\t# is not sorted, then add code to sort \n",
    "\t# keys, and rearrange freq[] accordingly. \n",
    "\treturn optCost(freq, 0, n - 1)\n",
    "\n",
    "# A utility function to get sum of\n",
    "# array elements freq[i] to freq[j] \n",
    "def Sum(freq, i, j):\n",
    "\ts = 0\n",
    "\tfor k in range(i, j + 1):\n",
    "\t\ts += freq[k] \n",
    "\treturn s\n",
    "\n",
    "# Driver Code\n",
    "if __name__ == '__main__':\n",
    "\tkeys = [10, 12, 20] \n",
    "\tfreq = [34, 8, 50] \n",
    "\tn = len(keys) \n",
    "\tprint(\"Cost of Optimal BST is\", \n",
    "\t\toptimalSearchTree(keys, freq, n))\n",
    "\t\n",
    "# This code is contributed by PranchalK\n"
   ]
  },
  {
   "cell_type": "code",
   "execution_count": 2,
   "metadata": {},
   "outputs": [],
   "source": [
    "def optCost(freq, i, j):\n",
    "    if j < i:\n",
    "        return 0\n",
    "    if j == i:\n",
    "        return freq[i] \n",
    "    \n",
    "    fsum = Sum(freq, i, j + 1)\n",
    "    min = 9999\n",
    "    for r in range(i, j + 1):\n",
    "        cost = (optCost(freq, i, r-1) + optCost(freq, r+1, j))\n",
    "        if cost < min:\n",
    "            min = cost\n",
    "    return min + fsum"
   ]
  },
  {
   "cell_type": "code",
   "execution_count": 5,
   "metadata": {},
   "outputs": [],
   "source": [
    "# Dynamic Programming code for Optimal Binary Search \n",
    "# Tree Problem \n",
    "\n",
    "INT_MAX = 2147483647\n",
    "\n",
    "\"\"\" A Dynamic Programming based function that\n",
    "calculates minimum cost of a Binary Search Tree. \"\"\"\n",
    "def optimalSearchTree(keys, freq, n):\n",
    "\n",
    "\t\"\"\" Create an auxiliary 2D matrix to store\n",
    "\t\tresults of subproblems \"\"\"\n",
    "\tcost = [[0 for x in range(n)] \n",
    "\t\t\tfor y in range(n)]\n",
    "\n",
    "\t\"\"\" cost[i][j] = Optimal cost of binary search \n",
    "\ttree that can be formed from keys[i] to keys[j]. \n",
    "\tcost[0][n-1] will store the resultant cost \"\"\"\n",
    "\n",
    "\t# For a single key, cost is equal to\n",
    "\t# frequency of the key \n",
    "\tfor i in range(n):\n",
    "\t\tcost[i][i] = freq[i] \n",
    "\n",
    "\t# Now we need to consider chains of \n",
    "\t# length 2, 3, ... . L is chain length. \n",
    "\tfor L in range(2, n + 1):\n",
    "\t\n",
    "\t\t# i is row number in cost \n",
    "\t\tfor i in range(n - L + 2):\n",
    "\t\t\t\n",
    "\t\t\t# Get column number j from row number \n",
    "\t\t\t# i and chain length L \n",
    "\t\t\tj = i + L - 1\n",
    "\t\t\toff_set_sum = sum(freq, i, j)\n",
    "\t\t\tif i >= n or j >= n:\n",
    "\t\t\t\tbreak\n",
    "\t\t\tcost[i][j] = INT_MAX\n",
    "\t\t\t\n",
    "\t\t\t# Try making all keys in interval \n",
    "\t\t\t# keys[i..j] as root \n",
    "\t\t\tfor r in range(i, j + 1):\n",
    "\t\t\t\t\n",
    "\t\t\t\t# c = cost when keys[r] becomes root \n",
    "\t\t\t\t# of this subtree\n",
    "\t\t\t\tc = 0\n",
    "\t\t\t\tif (r > i):\n",
    "\t\t\t\t\tc += cost[i][r - 1]\n",
    "\t\t\t\tif (r < j):\n",
    "\t\t\t\t\tc += cost[r + 1][j]\n",
    "\t\t\t\tc += off_set_sum \n",
    "\t\t\t\tif (c < cost[i][j]):\n",
    "\t\t\t\t\tcost[i][j] = c\n",
    "\treturn cost[0][n - 1] \n",
    "\n",
    "\n",
    "# A utility function to get sum of \n",
    "# array elements freq[i] to freq[j] \n",
    "def sum(freq, i, j):\n",
    "\n",
    "\ts = 0\n",
    "\tfor k in range(i, j + 1):\n",
    "\t\ts += freq[k] \n",
    "\treturn s \n",
    "\t\n",
    "# This code is contributed by SHUBHAMSINGH10\n"
   ]
  },
  {
   "cell_type": "code",
   "execution_count": 6,
   "metadata": {},
   "outputs": [
    {
     "ename": "IndexError",
     "evalue": "list index out of range",
     "output_type": "error",
     "traceback": [
      "\u001b[1;31m---------------------------------------------------------------------------\u001b[0m",
      "\u001b[1;31mIndexError\u001b[0m                                Traceback (most recent call last)",
      "Cell \u001b[1;32mIn[6], line 7\u001b[0m\n\u001b[0;32m      4\u001b[0m freq \u001b[38;5;241m=\u001b[39m [\u001b[38;5;241m34\u001b[39m, \u001b[38;5;241m8\u001b[39m, \u001b[38;5;241m50\u001b[39m]\n\u001b[0;32m      5\u001b[0m n \u001b[38;5;241m=\u001b[39m \u001b[38;5;28mlen\u001b[39m(keys)\n\u001b[0;32m      6\u001b[0m \u001b[38;5;28mprint\u001b[39m(\u001b[38;5;124m\"\u001b[39m\u001b[38;5;124mCost of Optimal BST is\u001b[39m\u001b[38;5;124m\"\u001b[39m,\n\u001b[1;32m----> 7\u001b[0m \t\u001b[43moptimalSearchTree\u001b[49m\u001b[43m(\u001b[49m\u001b[43mkeys\u001b[49m\u001b[43m,\u001b[49m\u001b[43m \u001b[49m\u001b[43mfreq\u001b[49m\u001b[43m,\u001b[49m\u001b[43m \u001b[49m\u001b[43mn\u001b[49m\u001b[43m)\u001b[49m)\n",
      "Cell \u001b[1;32mIn[5], line 34\u001b[0m, in \u001b[0;36moptimalSearchTree\u001b[1;34m(keys, freq, n)\u001b[0m\n\u001b[0;32m     29\u001b[0m \u001b[38;5;28;01mfor\u001b[39;00m i \u001b[38;5;129;01min\u001b[39;00m \u001b[38;5;28mrange\u001b[39m(n \u001b[38;5;241m-\u001b[39m L \u001b[38;5;241m+\u001b[39m \u001b[38;5;241m2\u001b[39m):\n\u001b[0;32m     30\u001b[0m \t\n\u001b[0;32m     31\u001b[0m \t\u001b[38;5;66;03m# Get column number j from row number \u001b[39;00m\n\u001b[0;32m     32\u001b[0m \t\u001b[38;5;66;03m# i and chain length L \u001b[39;00m\n\u001b[0;32m     33\u001b[0m \tj \u001b[38;5;241m=\u001b[39m i \u001b[38;5;241m+\u001b[39m L \u001b[38;5;241m-\u001b[39m \u001b[38;5;241m1\u001b[39m\n\u001b[1;32m---> 34\u001b[0m \toff_set_sum \u001b[38;5;241m=\u001b[39m \u001b[38;5;28;43msum\u001b[39;49m\u001b[43m(\u001b[49m\u001b[43mfreq\u001b[49m\u001b[43m,\u001b[49m\u001b[43m \u001b[49m\u001b[43mi\u001b[49m\u001b[43m,\u001b[49m\u001b[43m \u001b[49m\u001b[43mj\u001b[49m\u001b[43m)\u001b[49m\n\u001b[0;32m     35\u001b[0m \t\u001b[38;5;28;01mif\u001b[39;00m i \u001b[38;5;241m>\u001b[39m\u001b[38;5;241m=\u001b[39m n \u001b[38;5;129;01mor\u001b[39;00m j \u001b[38;5;241m>\u001b[39m\u001b[38;5;241m=\u001b[39m n:\n\u001b[0;32m     36\u001b[0m \t\t\u001b[38;5;28;01mbreak\u001b[39;00m\n",
      "Cell \u001b[1;32mIn[5], line 62\u001b[0m, in \u001b[0;36msum\u001b[1;34m(freq, i, j)\u001b[0m\n\u001b[0;32m     60\u001b[0m s \u001b[38;5;241m=\u001b[39m \u001b[38;5;241m0\u001b[39m\n\u001b[0;32m     61\u001b[0m \u001b[38;5;28;01mfor\u001b[39;00m k \u001b[38;5;129;01min\u001b[39;00m \u001b[38;5;28mrange\u001b[39m(i, j \u001b[38;5;241m+\u001b[39m \u001b[38;5;241m1\u001b[39m):\n\u001b[1;32m---> 62\u001b[0m \ts \u001b[38;5;241m+\u001b[39m\u001b[38;5;241m=\u001b[39m \u001b[43mfreq\u001b[49m\u001b[43m[\u001b[49m\u001b[43mk\u001b[49m\u001b[43m]\u001b[49m \n\u001b[0;32m     63\u001b[0m \u001b[38;5;28;01mreturn\u001b[39;00m s\n",
      "\u001b[1;31mIndexError\u001b[0m: list index out of range"
     ]
    }
   ],
   "source": [
    "\n",
    "# Driver Code\n",
    "if __name__ == '__main__':\n",
    "\tkeys = [10, 12, 20]\n",
    "\tfreq = [34, 8, 50]\n",
    "\tn = len(keys)\n",
    "\tprint(\"Cost of Optimal BST is\",\n",
    "\t\toptimalSearchTree(keys, freq, n))\n",
    "\t"
   ]
  },
  {
   "cell_type": "code",
   "execution_count": 12,
   "metadata": {},
   "outputs": [
    {
     "ename": "TabError",
     "evalue": "inconsistent use of tabs and spaces in indentation (3176722337.py, line 29)",
     "output_type": "error",
     "traceback": [
      "\u001b[1;36m  Cell \u001b[1;32mIn[12], line 29\u001b[1;36m\u001b[0m\n\u001b[1;33m    print('cost', cost)\u001b[0m\n\u001b[1;37m    ^\u001b[0m\n\u001b[1;31mTabError\u001b[0m\u001b[1;31m:\u001b[0m inconsistent use of tabs and spaces in indentation\n"
     ]
    }
   ],
   "source": [
    "INT_MAX = 2147483647\n",
    "\n",
    "def optimalSearchTree(keys, freq, n):\n",
    "    # Create an auxiliary 2D matrix to store results of subproblems\n",
    "    cost = [[0] * n for _ in range(n)]\n",
    "\n",
    "    # For a single key, cost is equal to frequency of the key\n",
    "    for i in range(n):\n",
    "        cost[i][i] = freq[i]\n",
    "\n",
    "    # Now we need to consider chains of length 2, 3, ... . L is chain length.\n",
    "    for L in range(2, n + 1):\n",
    "        # i is row number in cost\n",
    "        for i in range(n - L + 1):\n",
    "            # Get column number j from row number i and chain length L\n",
    "            j = i + L - 1\n",
    "            off_set_sum = sum(freq, i, j)\n",
    "\n",
    "            cost[i][j] = INT_MAX\n",
    "\n",
    "            # Try making all keys in interval keys[i..j] as root\n",
    "            for r in range(i, j + 1):\n",
    "                # c = cost when keys[r] becomes root of this subtree\n",
    "                c = ((cost[i][r - 1] if r > i else 0) +\n",
    "                     (cost[r + 1][j] if r < j else 0) +\n",
    "                     off_set_sum)\n",
    "                cost[i][j] = min(cost[i][j], c)\n",
    "\t\n",
    "\tprint('cost', cost)\n",
    "    return cost[0][n - 1]\n",
    "\n",
    "def sum(freq, i, j):\n",
    "    s = 0\n",
    "    for k in range(i, j + 1):\n",
    "        s += freq[k]\n",
    "    return s\n",
    "\n",
    "if __name__ == '__main__':\n",
    "    keys = [10, 12, 20]\n",
    "    freq = [34, 8, 50]\n",
    "    n = len(keys)\n",
    "    print(\"Cost of Optimal BST is\", optimalSearchTree(keys, freq, n))\n"
   ]
  },
  {
   "cell_type": "code",
   "execution_count": 13,
   "metadata": {},
   "outputs": [
    {
     "ename": "TabError",
     "evalue": "inconsistent use of tabs and spaces in indentation (3176722337.py, line 29)",
     "output_type": "error",
     "traceback": [
      "\u001b[1;36m  Cell \u001b[1;32mIn[13], line 29\u001b[1;36m\u001b[0m\n\u001b[1;33m    print('cost', cost)\u001b[0m\n\u001b[1;37m    ^\u001b[0m\n\u001b[1;31mTabError\u001b[0m\u001b[1;31m:\u001b[0m inconsistent use of tabs and spaces in indentation\n"
     ]
    }
   ],
   "source": [
    "INT_MAX = 2147483647\n",
    "\n",
    "def optimalSearchTree(keys, freq, n):\n",
    "    # Create an auxiliary 2D matrix to store results of subproblems\n",
    "    cost = [[0] * n for _ in range(n)]\n",
    "\n",
    "    # For a single key, cost is equal to frequency of the key\n",
    "    for i in range(n):\n",
    "        cost[i][i] = freq[i]\n",
    "\n",
    "    # Now we need to consider chains of length 2, 3, ... . L is chain length.\n",
    "    for L in range(2, n + 1):\n",
    "        # i is row number in cost\n",
    "        for i in range(n - L + 1):\n",
    "            # Get column number j from row number i and chain length L\n",
    "            j = i + L - 1\n",
    "            off_set_sum = sum(freq, i, j)\n",
    "\n",
    "            cost[i][j] = INT_MAX\n",
    "\n",
    "            # Try making all keys in interval keys[i..j] as root\n",
    "            for r in range(i, j + 1):\n",
    "                # c = cost when keys[r] becomes root of this subtree\n",
    "                c = ((cost[i][r - 1] if r > i else 0) +\n",
    "                     (cost[r + 1][j] if r < j else 0) +\n",
    "                     off_set_sum)\n",
    "                cost[i][j] = min(cost[i][j], c)\n",
    "\t\n",
    "    return cost[0][n - 1]\n",
    "\n",
    "def sum(freq, i, j):\n",
    "    s = 0\n",
    "    for k in range(i, j + 1):\n",
    "        s += freq[k]\n",
    "    return s\n",
    "\n",
    "if __name__ == '__main__':\n",
    "    keys = [10, 12, 20]\n",
    "    freq = [34, 8, 50]\n",
    "    n = len(keys)\n",
    "    print(\"Cost of Optimal BST is\", optimalSearchTree(keys, freq, n))\n"
   ]
  },
  {
   "cell_type": "code",
   "execution_count": null,
   "metadata": {},
   "outputs": [],
   "source": [
    "def optimalSearchTree(keys, freq, n):\n",
    "    cost = [[0] * n for _ in range(n)]\n",
    "\n",
    "    for i in range(n):\n",
    "        cost[i][i] = freq[i]\n",
    "    for L in range(2, n+1):\n",
    "        for i in range(n - L + 1):\n",
    "            j = i + L - 1\n",
    "            off_set_sum = sum(freq, i, j)\n",
    "            cost[]"
   ]
  },
  {
   "cell_type": "code",
   "execution_count": 15,
   "metadata": {},
   "outputs": [
    {
     "name": "stdout",
     "output_type": "stream",
     "text": [
      "Selected activity: 1\n",
      "Selected activity: 4\n",
      "Selected activity: 8\n",
      "Selected activity: 11\n",
      "Selected activities: [1, 4, 8, 11]\n"
     ]
    }
   ],
   "source": [
    "def recursive_activity_selector(start_times, finish_times, current_activity_index, total_activities):\n",
    "    next_activity_index = current_activity_index + 1  # Initialize the index of the next activity after the current one\n",
    "    # Find the first activity in Sk to finish\n",
    "    while next_activity_index <= total_activities and start_times[next_activity_index] < finish_times[current_activity_index]:\n",
    "        next_activity_index += 1\n",
    "    if next_activity_index <= total_activities:\n",
    "        # If the next activity index is within the range of activities, select that activity\n",
    "        print(\"Selected activity:\", next_activity_index)\n",
    "        return [next_activity_index] + recursive_activity_selector(start_times, finish_times, next_activity_index, total_activities)\n",
    "    else:\n",
    "        # Otherwise, return an empty list indicating no more activities\n",
    "        return []\n",
    "\n",
    "# Example usage:\n",
    "start_times = [0, 1, 3, 0, 5, 3, 5, 6, 8, 8, 2, 12]\n",
    "finish_times = [0, 4, 5, 6, 7, 9, 9, 10, 11, 12, 14, 16]\n",
    "total_activities = len(start_times) - 1  # Total number of activities (excluding the dummy activity)\n",
    "print(\"Selected activities:\", recursive_activity_selector(start_times, finish_times, 0, total_activities))\n"
   ]
  },
  {
   "cell_type": "markdown",
   "metadata": {},
   "source": [
    "# Next time code down the algorithms with ChatGPT!! in understandbale language"
   ]
  },
  {
   "cell_type": "code",
   "execution_count": 16,
   "metadata": {},
   "outputs": [],
   "source": [
    "def recursive_activity_selector(start_times, finish_times, current_activity_index, total_activities):\n",
    "    next_activity_index = current_activity_index + 1\n",
    "\n",
    "    while next_activity_index <= total_activities and start_times[next_activity_index] < finish_times[current_activity_index]:\n",
    "        next_activity_index += 1\n",
    "    if next_activity_index <= total_activities:\n",
    "        return [next_activity_index] + recursive_activity_selector(start_times, finish_times, next_activity_index, total_activities)"
   ]
  },
  {
   "cell_type": "code",
   "execution_count": 17,
   "metadata": {},
   "outputs": [
    {
     "name": "stdout",
     "output_type": "stream",
     "text": [
      "Selected activities: [1, 4, 8, 11]\n"
     ]
    }
   ],
   "source": [
    "def greedy_activity_selector(start_times, finish_times):\n",
    "    n = len(start_times)  # Total number of activities\n",
    "    A = [1]  # Initialize the list of selected activities with the first activity\n",
    "    k = 0  # Initialize the index of the last selected activity\n",
    "    \n",
    "    for m in range(1, n):\n",
    "        if start_times[m] >= finish_times[k]:\n",
    "            A.append(m + 1)  # Add the activity to the selected list\n",
    "            k = m  # Update the index of the last selected activity\n",
    "    \n",
    "    return A\n",
    "\n",
    "# Example usage:\n",
    "start_times = [1, 3, 0, 5, 3, 5, 6, 8, 8, 2, 12]\n",
    "finish_times = [4, 5, 6, 7, 9, 9, 10, 11, 12, 14, 16]\n",
    "\n",
    "# Sorted by desc time.\n",
    "selected_activities = greedy_activity_selector(start_times, finish_times)\n",
    "print(\"Selected activities:\", selected_activities)\n"
   ]
  },
  {
   "cell_type": "code",
   "execution_count": 18,
   "metadata": {},
   "outputs": [
    {
     "name": "stdout",
     "output_type": "stream",
     "text": [
      "Selected activities: [1, 4, 8, 11]\n"
     ]
    }
   ],
   "source": [
    "def greedy_activity_selector(start_times, finish_times):\n",
    "    total_activities = len(start_times)  # Total number of activities\n",
    "    selected_activities = [1]  # Initialize the list of selected activities with the first activity\n",
    "    last_selected_index = 0  # Initialize the index of the last selected activity\n",
    "    \n",
    "    for current_activity_index in range(1, total_activities):\n",
    "        if start_times[current_activity_index] >= finish_times[last_selected_index]:\n",
    "            selected_activities.append(current_activity_index + 1)  # Add the activity to the selected list\n",
    "            last_selected_index = current_activity_index  # Update the index of the last selected activity\n",
    "    \n",
    "    return selected_activities\n",
    "\n",
    "# Example usage:\n",
    "start_times = [1, 3, 0, 5, 3, 5, 6, 8, 8, 2, 12]\n",
    "finish_times = [4, 5, 6, 7, 9, 9, 10, 11, 12, 14, 16]\n",
    "selected_activities = greedy_activity_selector(start_times, finish_times)\n",
    "print(\"Selected activities:\", selected_activities)\n"
   ]
  },
  {
   "cell_type": "code",
   "execution_count": 19,
   "metadata": {},
   "outputs": [],
   "source": [
    "class TreeNode:\n",
    "    def __init__(self, key):\n",
    "        self.key = key\n",
    "        self.left = None\n",
    "        self.right = None\n",
    "        self.parent = None\n",
    "\n",
    "def transplant(root, u, v):\n",
    "    if u.parent is None:\n",
    "        root = v\n",
    "    elif u == u.parent.left:\n",
    "        u.parent.left = v\n",
    "    else:\n",
    "        u.parent.right = v\n",
    "    if v is not None:\n",
    "        v.parent = u.parent\n",
    "    return root\n",
    "\n",
    "def delete_node(root, key_to_delete):\n",
    "    node = root\n",
    "    while node is not None:\n",
    "        if key_to_delete < node.key:\n",
    "            node = node.left\n",
    "        elif key_to_delete > node.key:\n",
    "            node = node.right\n",
    "        else:  # Found the node to delete\n",
    "            if node.left is None:\n",
    "                root = transplant(root, node, node.right)\n",
    "            elif node.right is None:\n",
    "                root = transplant(root, node, node.left)\n",
    "            else:\n",
    "                successor = node.right\n",
    "                while successor.left is not None:\n",
    "                    successor = successor.left\n",
    "                if successor.parent != node:\n",
    "                    root = transplant(root, successor, successor.right)\n",
    "                    successor.right = node.right\n",
    "                    successor.right.parent = successor\n",
    "                root = transplant(root, node, successor)\n",
    "                successor.left = node.left\n",
    "                successor.left.parent = successor\n",
    "            break\n",
    "    return root\n"
   ]
  },
  {
   "cell_type": "code",
   "execution_count": null,
   "metadata": {},
   "outputs": [],
   "source": []
  }
 ],
 "metadata": {
  "kernelspec": {
   "display_name": "Python 3",
   "language": "python",
   "name": "python3"
  },
  "language_info": {
   "codemirror_mode": {
    "name": "ipython",
    "version": 3
   },
   "file_extension": ".py",
   "mimetype": "text/x-python",
   "name": "python",
   "nbconvert_exporter": "python",
   "pygments_lexer": "ipython3",
   "version": "3.9.12"
  }
 },
 "nbformat": 4,
 "nbformat_minor": 2
}
