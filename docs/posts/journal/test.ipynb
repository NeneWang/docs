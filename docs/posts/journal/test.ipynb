{
 "cells": [
  {
   "cell_type": "code",
   "execution_count": 3,
   "metadata": {},
   "outputs": [
    {
     "name": "stdout",
     "output_type": "stream",
     "text": [
      "8 10 12 15 18 "
     ]
    }
   ],
   "source": [
    "class TreeNode:\n",
    "    def __init__(self, key):\n",
    "        self.key = key\n",
    "        self.left = None\n",
    "        self.right = None\n",
    "        self.parent = None\n",
    "\n",
    "def transplant(root, u, v):\n",
    "    if u.parent is None:\n",
    "        root = v\n",
    "    elif u == u.parent.left:\n",
    "        u.parent.left = v\n",
    "    else:\n",
    "        u.parent.right = v\n",
    "    if v is not None:\n",
    "        v.parent = u.parent\n",
    "    return root"
   ]
  },
  {
   "cell_type": "code",
   "execution_count": 4,
   "metadata": {},
   "outputs": [
    {
     "name": "stdout",
     "output_type": "stream",
     "text": [
      "8 10 12 15 18 "
     ]
    }
   ],
   "source": [
    "\n",
    "\n",
    "# Example usage:\n",
    "# Let's say we have a binary search tree and we want to replace node u with node v.\n",
    "\n",
    "# Sample BST:\n",
    "#         10\n",
    "#       /    \\\n",
    "#      5      15\n",
    "#     / \\    /  \\\n",
    "#    3   7  12   18\n",
    "\n",
    "# Construct the BST\n",
    "root = TreeNode(10)\n",
    "root.left = TreeNode(5)\n",
    "root.right = TreeNode(15)\n",
    "root.left.left = TreeNode(3)\n",
    "root.left.right = TreeNode(7)\n",
    "root.right.left = TreeNode(12)\n",
    "root.right.right = TreeNode(18)\n",
    "\n",
    "# Set parent pointers\n",
    "root.left.parent = root\n",
    "root.right.parent = root\n",
    "root.left.left.parent = root.left\n",
    "root.left.right.parent = root.left\n",
    "root.right.left.parent = root.right\n",
    "root.right.right.parent = root.right\n",
    "\n",
    "# Suppose we want to transplant node with key 5 with node with key 8\n",
    "node_u = root.left  # Node with key 5\n",
    "node_v = TreeNode(8)\n",
    "\n",
    "# Perform transplant operation\n",
    "root = transplant(root, node_u, node_v)\n",
    "\n",
    "# Print the modified tree\n",
    "def inorder_traversal(node):\n",
    "    if node is not None:\n",
    "        inorder_traversal(node.left)\n",
    "        print(node.key, end=\" \")\n",
    "        inorder_traversal(node.right)\n",
    "\n",
    "inorder_traversal(root)  # Output should be: 3 8 7 10 12 15 18\n"
   ]
  },
  {
   "cell_type": "code",
   "execution_count": 5,
   "metadata": {},
   "outputs": [
    {
     "name": "stdout",
     "output_type": "stream",
     "text": [
      "2 10 12 15 18 "
     ]
    }
   ],
   "source": [
    "\n",
    "# Construct the BST\n",
    "root = TreeNode(10)\n",
    "root.left = TreeNode(5)\n",
    "root.right = TreeNode(15)\n",
    "root.left.left = TreeNode(3)\n",
    "root.left.right = TreeNode(7)\n",
    "root.right.left = TreeNode(12)\n",
    "root.right.right = TreeNode(18)\n",
    "\n",
    "# Set parent pointers\n",
    "root.left.parent = root\n",
    "root.right.parent = root\n",
    "root.left.left.parent = root.left\n",
    "root.left.right.parent = root.left\n",
    "root.right.left.parent = root.right\n",
    "root.right.right.parent = root.right\n",
    "\n",
    "# Suppose we want to transplant node with key 5 with node with key 8\n",
    "node_u = root.left  # Node with key 5\n",
    "node_v = TreeNode(2)\n",
    "\n",
    "# Perform transplant operation\n",
    "root = transplant(root, node_u, node_v)\n",
    "\n",
    "# Print the modified tree\n",
    "def inorder_traversal(node):\n",
    "    if node is not None:\n",
    "        inorder_traversal(node.left)\n",
    "        print(node.key, end=\" \")\n",
    "        inorder_traversal(node.right)\n",
    "\n",
    "inorder_traversal(root)  # Output should be: 3 8 7 10 12 15 18"
   ]
  },
  {
   "cell_type": "code",
   "execution_count": 7,
   "metadata": {},
   "outputs": [
    {
     "data": {
      "text/plain": [
       "10"
      ]
     },
     "execution_count": 7,
     "metadata": {},
     "output_type": "execute_result"
    }
   ],
   "source": [
    "root.key"
   ]
  },
  {
   "cell_type": "code",
   "execution_count": 8,
   "metadata": {},
   "outputs": [
    {
     "name": "stdout",
     "output_type": "stream",
     "text": [
      "3 7 10 12 15 18 "
     ]
    }
   ],
   "source": [
    "class TreeNode:\n",
    "    def __init__(self, key):\n",
    "        self.key = key\n",
    "        self.left = None\n",
    "        self.right = None\n",
    "        self.parent = None\n",
    "\n",
    "def transplant(root, u, v):\n",
    "    if u.parent is None:\n",
    "        root = v\n",
    "    elif u == u.parent.left:\n",
    "        u.parent.left = v\n",
    "    else:\n",
    "        u.parent.right = v\n",
    "    if v is not None:\n",
    "        v.parent = u.parent\n",
    "    return root\n",
    "\n",
    "def delete_node(root, key):\n",
    "    node = root\n",
    "    while node is not None:\n",
    "        if key < node.key:\n",
    "            node = node.left\n",
    "        elif key > node.key:\n",
    "            node = node.right\n",
    "        else:  # Found the node to delete\n",
    "            if node.left is None:\n",
    "                root = transplant(root, node, node.right)\n",
    "            elif node.right is None:\n",
    "                root = transplant(root, node, node.left)\n",
    "            else:\n",
    "                successor = node.right\n",
    "                while successor.left is not None:\n",
    "                    successor = successor.left\n",
    "                if successor.parent != node:\n",
    "                    root = transplant(root, successor, successor.right)\n",
    "                    successor.right = node.right\n",
    "                    successor.right.parent = successor\n",
    "                root = transplant(root, node, successor)\n",
    "                successor.left = node.left\n",
    "                successor.left.parent = successor\n",
    "            break\n",
    "    return root\n"
   ]
  },
  {
   "cell_type": "code",
   "execution_count": 9,
   "metadata": {},
   "outputs": [
    {
     "name": "stdout",
     "output_type": "stream",
     "text": [
      "3 7 10 12 15 18 "
     ]
    }
   ],
   "source": [
    "\n",
    "\n",
    "# Construct the BST\n",
    "root = TreeNode(10)\n",
    "root.left = TreeNode(5)\n",
    "root.right = TreeNode(15)\n",
    "root.left.left = TreeNode(3)\n",
    "root.left.right = TreeNode(7)\n",
    "root.right.left = TreeNode(12)\n",
    "root.right.right = TreeNode(18)\n",
    "\n",
    "# Set parent pointers\n",
    "root.left.parent = root\n",
    "root.right.parent = root\n",
    "root.left.left.parent = root.left\n",
    "root.left.right.parent = root.left\n",
    "root.right.left.parent = root.right\n",
    "root.right.right.parent = root.right\n",
    "\n",
    "# Delete node with key 5\n",
    "root = delete_node(root, 5)\n",
    "\"\"\"\n",
    "    10\n",
    "   /  \\\n",
    " 5    15\n",
    "/ \\    / \\\n",
    "3   7 12  18\n",
    "\n",
    "\"\"\"\n",
    "# Print the modified tree\n",
    "def inorder_traversal(node):\n",
    "    if node is not None:\n",
    "        inorder_traversal(node.left)\n",
    "        print(node.key, end=\" \")\n",
    "        inorder_traversal(node.right)\n",
    "\n",
    "inorder_traversal(root)  # Output should be: 3 7 10 12 15 18"
   ]
  },
  {
   "cell_type": "code",
   "execution_count": null,
   "metadata": {},
   "outputs": [],
   "source": []
  }
 ],
 "metadata": {
  "kernelspec": {
   "display_name": "Python 3",
   "language": "python",
   "name": "python3"
  },
  "language_info": {
   "codemirror_mode": {
    "name": "ipython",
    "version": 3
   },
   "file_extension": ".py",
   "mimetype": "text/x-python",
   "name": "python",
   "nbconvert_exporter": "python",
   "pygments_lexer": "ipython3",
   "version": "3.9.12"
  }
 },
 "nbformat": 4,
 "nbformat_minor": 2
}
